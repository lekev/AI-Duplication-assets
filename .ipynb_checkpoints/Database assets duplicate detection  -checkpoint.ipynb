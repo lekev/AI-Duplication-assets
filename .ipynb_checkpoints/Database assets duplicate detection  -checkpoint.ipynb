{
 "cells": [
  {
   "cell_type": "code",
   "execution_count": 6,
   "metadata": {},
   "outputs": [],
   "source": [
    "import recordlinkage\n",
    "import pandas\n",
    "from recordlinkage.datasets import load_febrl1"
   ]
  },
  {
   "cell_type": "code",
   "execution_count": 9,
   "metadata": {},
   "outputs": [
    {
     "ename": "NameError",
     "evalue": "name 'interactivity' is not defined",
     "output_type": "error",
     "traceback": [
      "\u001b[0;31m---------------------------------------------------------------------------\u001b[0m",
      "\u001b[0;31mNameError\u001b[0m                                 Traceback (most recent call last)",
      "\u001b[0;32m<ipython-input-9-f142c4ee7006>\u001b[0m in \u001b[0;36m<module>\u001b[0;34m()\u001b[0m\n\u001b[0;32m----> 1\u001b[0;31m \u001b[0mdf_assets\u001b[0m \u001b[0;34m=\u001b[0m \u001b[0mpandas\u001b[0m\u001b[0;34m.\u001b[0m\u001b[0mread_csv\u001b[0m\u001b[0;34m(\u001b[0m\u001b[0;34m'/home/krenous/Development/skyline/AI/propertie-latest'\u001b[0m\u001b[0;34m,\u001b[0m\u001b[0minteractivity\u001b[0m\u001b[0;34m=\u001b[0m\u001b[0minteractivity\u001b[0m\u001b[0;34m)\u001b[0m\u001b[0;34m\u001b[0m\u001b[0m\n\u001b[0m",
      "\u001b[0;31mNameError\u001b[0m: name 'interactivity' is not defined"
     ]
    }
   ],
   "source": [
    "d_types = {\n",
    "'SkylineID': str,\n",
    "'AxioID': np.int32,\n",
    "'RcaID': np.int32,\n",
    "'RentComID': str,\n",
    "'ApartmentRatingsID': str,\n",
    "'ZillowID': str,\n",
    "'ApartmentsID': np.int32,\n",
    "'Name': str,\n",
    "'Latitude': np.float64,\n",
    "'Longitude': np.float64,\n",
    "'TrueOwner': str,\n",
    "'ManagementCompany': str,\n",
    "'State': str,\n",
    "'City': str,\n",
    "'Zip': str,\n",
    "'Street': str,\n",
    "'Address': str,\n",
    "'Levels': np.int32,\n",
    "'Status': str,\n",
    "'AreaPerUnit': np.float64,\n",
    "'Units': np.int32,\n",
    "'YearBuilt': np.int32,\n",
    "'Website': str,\n",
    "'Market': str,\n",
    "'SubMarket': str,\n",
    "'MarketID': np.int32,\n",
    "'SubMarketID': np.int32,\n",
    "}\n",
    "\n",
    "df_assets = pandas.read_csv('/home/krenous/Development/skyline/AI/propertie-latest',dtypes=d_types)"
   ]
  },
  {
   "cell_type": "code",
   "execution_count": null,
   "metadata": {},
   "outputs": [],
   "source": []
  }
 ],
 "metadata": {
  "kernelspec": {
   "display_name": "Python 3",
   "language": "python",
   "name": "python3"
  },
  "language_info": {
   "codemirror_mode": {
    "name": "ipython",
    "version": 3
   },
   "file_extension": ".py",
   "mimetype": "text/x-python",
   "name": "python",
   "nbconvert_exporter": "python",
   "pygments_lexer": "ipython3",
   "version": "3.6.4"
  }
 },
 "nbformat": 4,
 "nbformat_minor": 2
}
